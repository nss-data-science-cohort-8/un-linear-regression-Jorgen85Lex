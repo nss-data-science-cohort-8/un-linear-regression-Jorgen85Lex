{
 "cells": [
  {
   "cell_type": "code",
   "execution_count": 142,
   "id": "a5692d74-f14c-484d-9a82-869738f48ddf",
   "metadata": {},
   "outputs": [],
   "source": [
    "import pandas as pd\n",
    "import numpy as np\n",
    "import matplotlib.pyplot as plt\n",
    "import statsmodels.formula.api as smf\n",
    "from patsy.builtins import *"
   ]
  },
  {
   "cell_type": "code",
   "execution_count": 36,
   "id": "4f71257e-bfa9-44f0-be2b-bb71fd374ae9",
   "metadata": {},
   "outputs": [
    {
     "data": {
      "text/html": [
       "<div>\n",
       "<style scoped>\n",
       "    .dataframe tbody tr th:only-of-type {\n",
       "        vertical-align: middle;\n",
       "    }\n",
       "\n",
       "    .dataframe tbody tr th {\n",
       "        vertical-align: top;\n",
       "    }\n",
       "\n",
       "    .dataframe thead th {\n",
       "        text-align: right;\n",
       "    }\n",
       "</style>\n",
       "<table border=\"1\" class=\"dataframe\">\n",
       "  <thead>\n",
       "    <tr style=\"text-align: right;\">\n",
       "      <th></th>\n",
       "      <th>Country</th>\n",
       "      <th>Year</th>\n",
       "      <th>GDP_Per_Capita</th>\n",
       "      <th>Continent</th>\n",
       "      <th>Life_Expectancy</th>\n",
       "    </tr>\n",
       "  </thead>\n",
       "  <tbody>\n",
       "    <tr>\n",
       "      <th>0</th>\n",
       "      <td>Afghanistan</td>\n",
       "      <td>2021</td>\n",
       "      <td>1517.016266</td>\n",
       "      <td>Asia</td>\n",
       "      <td>61.982</td>\n",
       "    </tr>\n",
       "    <tr>\n",
       "      <th>1</th>\n",
       "      <td>Afghanistan</td>\n",
       "      <td>2020</td>\n",
       "      <td>1968.341002</td>\n",
       "      <td>Asia</td>\n",
       "      <td>62.575</td>\n",
       "    </tr>\n",
       "  </tbody>\n",
       "</table>\n",
       "</div>"
      ],
      "text/plain": [
       "       Country  Year  GDP_Per_Capita Continent  Life_Expectancy\n",
       "0  Afghanistan  2021     1517.016266      Asia           61.982\n",
       "1  Afghanistan  2020     1968.341002      Asia           62.575"
      ]
     },
     "execution_count": 36,
     "metadata": {},
     "output_type": "execute_result"
    }
   ],
   "source": [
    "gdp_le = pd.read_csv(\"../data/gdp_le.csv\")\n",
    "gdp_le.head(2)"
   ]
  },
  {
   "cell_type": "markdown",
   "id": "ff56e395-c0ef-4be4-81df-0e71fc7395da",
   "metadata": {},
   "source": [
    "1. Start by fitting a linear regression model with target being life expectancy and predictor variable year.  \n",
    "    a. What coefficients do you get? Interpret the meaning of these coefficents.  \n",
    "      \n",
    "   \n",
    " \n",
    "    e. Inspect the R-squared value for the model. does it make sense, given the plot?  "
   ]
  },
  {
   "cell_type": "code",
   "execution_count": 39,
   "id": "2152c90e-8e59-4f76-a22c-8c709fea12e1",
   "metadata": {},
   "outputs": [],
   "source": [
    "gdp_fit = smf.ols(\"Life_Expectancy ~ Year\", data=gdp_le).fit()"
   ]
  },
  {
   "cell_type": "code",
   "execution_count": 41,
   "id": "8bc80152-e045-4fd0-a291-ed997b36d9d2",
   "metadata": {},
   "outputs": [
    {
     "name": "stdout",
     "output_type": "stream",
     "text": [
      "The coefficients for linear regression are listed below:\n"
     ]
    },
    {
     "data": {
      "text/plain": [
       "Intercept   -468.138140\n",
       "Year           0.267722\n",
       "dtype: float64"
      ]
     },
     "execution_count": 41,
     "metadata": {},
     "output_type": "execute_result"
    }
   ],
   "source": [
    "print(f\"The coefficients for linear regression are listed below:\")\n",
    "gdp_fit.params"
   ]
  },
  {
   "cell_type": "markdown",
   "id": "6ba8080e-2d7b-438f-bf4c-54578e22fcd7",
   "metadata": {},
   "source": [
    "We get -468.138 as our intercept and year is 0.2677. So for every 0.2677 of a year we will decrease life expectancy by 468.318"
   ]
  },
  {
   "cell_type": "markdown",
   "id": "b3e8ab04-fffe-4572-ba4c-257c2733ab61",
   "metadata": {},
   "source": [
    "b. Using just the year makes the intercept term difficult to interpret. Create a new model, but this time use years since 1990 as your predictor variable. Hint: You can the [patsy identity function](https://patsy.readthedocs.io/en/latest/builtins-reference.html#patsy.builtins.I) to modify your predictors in your model formula. Inspect the new coefficients and interpret the meaning of them. Are they statistically significant?"
   ]
  },
  {
   "cell_type": "code",
   "execution_count": 91,
   "id": "a13ca569-7e4b-47f5-b3ce-9634c8444657",
   "metadata": {},
   "outputs": [
    {
     "data": {
      "text/plain": [
       "Intercept                 64.745253\n",
       "I(Year) > 1990[T.True]     4.381894\n",
       "dtype: float64"
      ]
     },
     "execution_count": 91,
     "metadata": {},
     "output_type": "execute_result"
    }
   ],
   "source": [
    "gdp_fit_1990 = smf.ols(\"Life_Expectancy ~ I(Year)>1990\", data=gdp_le).fit()\n",
    "gdp_fit_1990.params"
   ]
  },
  {
   "cell_type": "code",
   "execution_count": 95,
   "id": "542fbbef-b4e2-459c-b171-ef87d7527498",
   "metadata": {},
   "outputs": [
    {
     "data": {
      "text/html": [
       "<table class=\"simpletable\">\n",
       "<caption>OLS Regression Results</caption>\n",
       "<tr>\n",
       "  <th>Dep. Variable:</th>     <td>Life_Expectancy</td> <th>  R-squared:         </th> <td>   0.006</td> \n",
       "</tr>\n",
       "<tr>\n",
       "  <th>Model:</th>                   <td>OLS</td>       <th>  Adj. R-squared:    </th> <td>   0.005</td> \n",
       "</tr>\n",
       "<tr>\n",
       "  <th>Method:</th>             <td>Least Squares</td>  <th>  F-statistic:       </th> <td>   31.12</td> \n",
       "</tr>\n",
       "<tr>\n",
       "  <th>Date:</th>             <td>Thu, 17 Oct 2024</td> <th>  Prob (F-statistic):</th> <td>2.54e-08</td> \n",
       "</tr>\n",
       "<tr>\n",
       "  <th>Time:</th>                 <td>22:04:36</td>     <th>  Log-Likelihood:    </th> <td> -20139.</td> \n",
       "</tr>\n",
       "<tr>\n",
       "  <th>No. Observations:</th>      <td>  5504</td>      <th>  AIC:               </th> <td>4.028e+04</td>\n",
       "</tr>\n",
       "<tr>\n",
       "  <th>Df Residuals:</th>          <td>  5502</td>      <th>  BIC:               </th> <td>4.029e+04</td>\n",
       "</tr>\n",
       "<tr>\n",
       "  <th>Df Model:</th>              <td>     1</td>      <th>                     </th>     <td> </td>    \n",
       "</tr>\n",
       "<tr>\n",
       "  <th>Covariance Type:</th>      <td>nonrobust</td>    <th>                     </th>     <td> </td>    \n",
       "</tr>\n",
       "</table>\n",
       "<table class=\"simpletable\">\n",
       "<tr>\n",
       "             <td></td>               <th>coef</th>     <th>std err</th>      <th>t</th>      <th>P>|t|</th>  <th>[0.025</th>    <th>0.975]</th>  \n",
       "</tr>\n",
       "<tr>\n",
       "  <th>Intercept</th>              <td>   64.7453</td> <td>    0.775</td> <td>   83.556</td> <td> 0.000</td> <td>   63.226</td> <td>   66.264</td>\n",
       "</tr>\n",
       "<tr>\n",
       "  <th>I(Year) > 1990[T.True]</th> <td>    4.3819</td> <td>    0.785</td> <td>    5.579</td> <td> 0.000</td> <td>    2.842</td> <td>    5.922</td>\n",
       "</tr>\n",
       "</table>\n",
       "<table class=\"simpletable\">\n",
       "<tr>\n",
       "  <th>Omnibus:</th>       <td>441.762</td> <th>  Durbin-Watson:     </th> <td>   0.063</td> \n",
       "</tr>\n",
       "<tr>\n",
       "  <th>Prob(Omnibus):</th> <td> 0.000</td>  <th>  Jarque-Bera (JB):  </th> <td> 555.020</td> \n",
       "</tr>\n",
       "<tr>\n",
       "  <th>Skew:</th>          <td>-0.776</td>  <th>  Prob(JB):          </th> <td>3.01e-121</td>\n",
       "</tr>\n",
       "<tr>\n",
       "  <th>Kurtosis:</th>      <td> 3.119</td>  <th>  Cond. No.          </th> <td>    12.2</td> \n",
       "</tr>\n",
       "</table><br/><br/>Notes:<br/>[1] Standard Errors assume that the covariance matrix of the errors is correctly specified."
      ],
      "text/latex": [
       "\\begin{center}\n",
       "\\begin{tabular}{lclc}\n",
       "\\toprule\n",
       "\\textbf{Dep. Variable:}           & Life\\_Expectancy & \\textbf{  R-squared:         } &     0.006   \\\\\n",
       "\\textbf{Model:}                   &       OLS        & \\textbf{  Adj. R-squared:    } &     0.005   \\\\\n",
       "\\textbf{Method:}                  &  Least Squares   & \\textbf{  F-statistic:       } &     31.12   \\\\\n",
       "\\textbf{Date:}                    & Thu, 17 Oct 2024 & \\textbf{  Prob (F-statistic):} &  2.54e-08   \\\\\n",
       "\\textbf{Time:}                    &     22:04:36     & \\textbf{  Log-Likelihood:    } &   -20139.   \\\\\n",
       "\\textbf{No. Observations:}        &        5504      & \\textbf{  AIC:               } & 4.028e+04   \\\\\n",
       "\\textbf{Df Residuals:}            &        5502      & \\textbf{  BIC:               } & 4.029e+04   \\\\\n",
       "\\textbf{Df Model:}                &           1      & \\textbf{                     } &             \\\\\n",
       "\\textbf{Covariance Type:}         &    nonrobust     & \\textbf{                     } &             \\\\\n",
       "\\bottomrule\n",
       "\\end{tabular}\n",
       "\\begin{tabular}{lcccccc}\n",
       "                                  & \\textbf{coef} & \\textbf{std err} & \\textbf{t} & \\textbf{P$> |$t$|$} & \\textbf{[0.025} & \\textbf{0.975]}  \\\\\n",
       "\\midrule\n",
       "\\textbf{Intercept}                &      64.7453  &        0.775     &    83.556  &         0.000        &       63.226    &       66.264     \\\\\n",
       "\\textbf{I(Year) $>$ 1990[T.True]} &       4.3819  &        0.785     &     5.579  &         0.000        &        2.842    &        5.922     \\\\\n",
       "\\bottomrule\n",
       "\\end{tabular}\n",
       "\\begin{tabular}{lclc}\n",
       "\\textbf{Omnibus:}       & 441.762 & \\textbf{  Durbin-Watson:     } &     0.063  \\\\\n",
       "\\textbf{Prob(Omnibus):} &   0.000 & \\textbf{  Jarque-Bera (JB):  } &   555.020  \\\\\n",
       "\\textbf{Skew:}          &  -0.776 & \\textbf{  Prob(JB):          } & 3.01e-121  \\\\\n",
       "\\textbf{Kurtosis:}      &   3.119 & \\textbf{  Cond. No.          } &      12.2  \\\\\n",
       "\\bottomrule\n",
       "\\end{tabular}\n",
       "%\\caption{OLS Regression Results}\n",
       "\\end{center}\n",
       "\n",
       "Notes: \\newline\n",
       " [1] Standard Errors assume that the covariance matrix of the errors is correctly specified."
      ],
      "text/plain": [
       "<class 'statsmodels.iolib.summary.Summary'>\n",
       "\"\"\"\n",
       "                            OLS Regression Results                            \n",
       "==============================================================================\n",
       "Dep. Variable:        Life_Expectancy   R-squared:                       0.006\n",
       "Model:                            OLS   Adj. R-squared:                  0.005\n",
       "Method:                 Least Squares   F-statistic:                     31.12\n",
       "Date:                Thu, 17 Oct 2024   Prob (F-statistic):           2.54e-08\n",
       "Time:                        22:04:36   Log-Likelihood:                -20139.\n",
       "No. Observations:                5504   AIC:                         4.028e+04\n",
       "Df Residuals:                    5502   BIC:                         4.029e+04\n",
       "Df Model:                           1                                         \n",
       "Covariance Type:            nonrobust                                         \n",
       "==========================================================================================\n",
       "                             coef    std err          t      P>|t|      [0.025      0.975]\n",
       "------------------------------------------------------------------------------------------\n",
       "Intercept                 64.7453      0.775     83.556      0.000      63.226      66.264\n",
       "I(Year) > 1990[T.True]     4.3819      0.785      5.579      0.000       2.842       5.922\n",
       "==============================================================================\n",
       "Omnibus:                      441.762   Durbin-Watson:                   0.063\n",
       "Prob(Omnibus):                  0.000   Jarque-Bera (JB):              555.020\n",
       "Skew:                          -0.776   Prob(JB):                    3.01e-121\n",
       "Kurtosis:                       3.119   Cond. No.                         12.2\n",
       "==============================================================================\n",
       "\n",
       "Notes:\n",
       "[1] Standard Errors assume that the covariance matrix of the errors is correctly specified.\n",
       "\"\"\""
      ]
     },
     "execution_count": 95,
     "metadata": {},
     "output_type": "execute_result"
    }
   ],
   "source": [
    "gdp_fit_1990.summary()"
   ]
  },
  {
   "cell_type": "markdown",
   "id": "8da8e9ce-b306-498a-baa1-afc65ed1fea6",
   "metadata": {},
   "source": [
    "These new coefficients say that for each 4.38 years, the slope(life expectancy) increases by 64.74. Based on the p value being nearly 0 we can conclude that this is indeed statistically significant. "
   ]
  },
  {
   "cell_type": "markdown",
   "id": "7d0eb4d8-1ef4-430a-8ff5-c086dc3c3780",
   "metadata": {},
   "source": [
    "c. Compare the actual mean life expectancy per year to the model's estimate. How well does it do?  "
   ]
  },
  {
   "cell_type": "code",
   "execution_count": 174,
   "id": "f489068f-397f-4f7d-a9d5-6bc982011473",
   "metadata": {},
   "outputs": [
    {
     "data": {
      "text/html": [
       "<div>\n",
       "<style scoped>\n",
       "    .dataframe tbody tr th:only-of-type {\n",
       "        vertical-align: middle;\n",
       "    }\n",
       "\n",
       "    .dataframe tbody tr th {\n",
       "        vertical-align: top;\n",
       "    }\n",
       "\n",
       "    .dataframe thead th {\n",
       "        text-align: right;\n",
       "    }\n",
       "</style>\n",
       "<table border=\"1\" class=\"dataframe\">\n",
       "  <thead>\n",
       "    <tr style=\"text-align: right;\">\n",
       "      <th></th>\n",
       "      <th>Year</th>\n",
       "      <th>mean_estimate</th>\n",
       "    </tr>\n",
       "  </thead>\n",
       "  <tbody>\n",
       "    <tr>\n",
       "      <th>0</th>\n",
       "      <td>1990.000000</td>\n",
       "      <td>64.628889</td>\n",
       "    </tr>\n",
       "    <tr>\n",
       "      <th>1</th>\n",
       "      <td>1990.653061</td>\n",
       "      <td>64.803728</td>\n",
       "    </tr>\n",
       "  </tbody>\n",
       "</table>\n",
       "</div>"
      ],
      "text/plain": [
       "          Year  mean_estimate\n",
       "0  1990.000000      64.628889\n",
       "1  1990.653061      64.803728"
      ]
     },
     "execution_count": 174,
     "metadata": {},
     "output_type": "execute_result"
    }
   ],
   "source": [
    "pred_df = pd.DataFrame(\n",
    "    {\n",
    "        'Year': np.linspace(start=gdp_le['Year'].min(), stop=gdp_le['Year'].max())\n",
    "    }\n",
    ")\n",
    "pred_df['mean_estimate'] = gdp_fit.predict(pred_df)\n",
    "\n",
    "pred_df.head(2)\n"
   ]
  },
  {
   "cell_type": "code",
   "execution_count": 178,
   "id": "66b56329-a5a2-4305-844f-470961172fbd",
   "metadata": {},
   "outputs": [
    {
     "data": {
      "text/plain": [
       "68.91244340648481"
      ]
     },
     "execution_count": 178,
     "metadata": {},
     "output_type": "execute_result"
    }
   ],
   "source": [
    "pred_df['mean_estimate'].mean()"
   ]
  },
  {
   "cell_type": "code",
   "execution_count": 160,
   "id": "1f7e055f-1ad1-4e54-8cee-0c634b893a98",
   "metadata": {},
   "outputs": [
    {
     "data": {
      "text/plain": [
       "69.01011528644356"
      ]
     },
     "execution_count": 160,
     "metadata": {},
     "output_type": "execute_result"
    }
   ],
   "source": [
    "gdp_mean = gdp_le['Life_Expectancy'].mean()\n",
    "gdp_mean"
   ]
  },
  {
   "cell_type": "markdown",
   "id": "7692e499-412b-4c68-9884-38d51a9b8f5c",
   "metadata": {},
   "source": [
    "The actual result is 69.01 compared to the models result of 68.912443. It holds up fairly well I'd say. The numbers aren't vastly different by any means. "
   ]
  },
  {
   "cell_type": "markdown",
   "id": "fad0ae00-0bf3-4f5b-b79c-bf5c03bac48d",
   "metadata": {},
   "source": [
    " d. Plot the actual values against your model's estimates for the mean life expectancy. "
   ]
  },
  {
   "cell_type": "code",
   "execution_count": 180,
   "id": "c9a128f3-4483-42fd-9715-dbe7cc2a4477",
   "metadata": {},
   "outputs": [
    {
     "ename": "KeyError",
     "evalue": "'Life_Expectancy'",
     "output_type": "error",
     "traceback": [
      "\u001b[1;31m---------------------------------------------------------------------------\u001b[0m",
      "\u001b[1;31mKeyError\u001b[0m                                  Traceback (most recent call last)",
      "File \u001b[1;32m~\\anaconda3\\Lib\\site-packages\\pandas\\core\\indexes\\base.py:3805\u001b[0m, in \u001b[0;36mIndex.get_loc\u001b[1;34m(self, key)\u001b[0m\n\u001b[0;32m   3804\u001b[0m \u001b[38;5;28;01mtry\u001b[39;00m:\n\u001b[1;32m-> 3805\u001b[0m     \u001b[38;5;28;01mreturn\u001b[39;00m \u001b[38;5;28mself\u001b[39m\u001b[38;5;241m.\u001b[39m_engine\u001b[38;5;241m.\u001b[39mget_loc(casted_key)\n\u001b[0;32m   3806\u001b[0m \u001b[38;5;28;01mexcept\u001b[39;00m \u001b[38;5;167;01mKeyError\u001b[39;00m \u001b[38;5;28;01mas\u001b[39;00m err:\n",
      "File \u001b[1;32mindex.pyx:167\u001b[0m, in \u001b[0;36mpandas._libs.index.IndexEngine.get_loc\u001b[1;34m()\u001b[0m\n",
      "File \u001b[1;32mindex.pyx:196\u001b[0m, in \u001b[0;36mpandas._libs.index.IndexEngine.get_loc\u001b[1;34m()\u001b[0m\n",
      "File \u001b[1;32mpandas\\\\_libs\\\\hashtable_class_helper.pxi:7081\u001b[0m, in \u001b[0;36mpandas._libs.hashtable.PyObjectHashTable.get_item\u001b[1;34m()\u001b[0m\n",
      "File \u001b[1;32mpandas\\\\_libs\\\\hashtable_class_helper.pxi:7089\u001b[0m, in \u001b[0;36mpandas._libs.hashtable.PyObjectHashTable.get_item\u001b[1;34m()\u001b[0m\n",
      "\u001b[1;31mKeyError\u001b[0m: 'Life_Expectancy'",
      "\nThe above exception was the direct cause of the following exception:\n",
      "\u001b[1;31mKeyError\u001b[0m                                  Traceback (most recent call last)",
      "Cell \u001b[1;32mIn[180], line 3\u001b[0m\n\u001b[0;32m      1\u001b[0m fig, ax \u001b[38;5;241m=\u001b[39m plt\u001b[38;5;241m.\u001b[39msubplots()\n\u001b[0;32m      2\u001b[0m gdp_le\u001b[38;5;241m.\u001b[39mplot(kind\u001b[38;5;241m=\u001b[39m\u001b[38;5;124m\"\u001b[39m\u001b[38;5;124mscatter\u001b[39m\u001b[38;5;124m\"\u001b[39m, x\u001b[38;5;241m=\u001b[39m\u001b[38;5;124m\"\u001b[39m\u001b[38;5;124mLife_Expectancy\u001b[39m\u001b[38;5;124m\"\u001b[39m, y\u001b[38;5;241m=\u001b[39m\u001b[38;5;124m\"\u001b[39m\u001b[38;5;124mYear\u001b[39m\u001b[38;5;124m\"\u001b[39m, ax\u001b[38;5;241m=\u001b[39max)\n\u001b[1;32m----> 3\u001b[0m pred_df\u001b[38;5;241m.\u001b[39mplot(kind\u001b[38;5;241m=\u001b[39m\u001b[38;5;124m\"\u001b[39m\u001b[38;5;124mline\u001b[39m\u001b[38;5;124m\"\u001b[39m, x\u001b[38;5;241m=\u001b[39m\u001b[38;5;124m\"\u001b[39m\u001b[38;5;124mLife_Expectancy\u001b[39m\u001b[38;5;124m\"\u001b[39m, y\u001b[38;5;241m=\u001b[39m\u001b[38;5;124m\"\u001b[39m\u001b[38;5;124mmean_estimate\u001b[39m\u001b[38;5;124m\"\u001b[39m, color\u001b[38;5;241m=\u001b[39m\u001b[38;5;124m\"\u001b[39m\u001b[38;5;124mblack\u001b[39m\u001b[38;5;124m\"\u001b[39m, ax\u001b[38;5;241m=\u001b[39max)\n",
      "File \u001b[1;32m~\\anaconda3\\Lib\\site-packages\\pandas\\plotting\\_core.py:995\u001b[0m, in \u001b[0;36mPlotAccessor.__call__\u001b[1;34m(self, *args, **kwargs)\u001b[0m\n\u001b[0;32m    993\u001b[0m \u001b[38;5;28;01mif\u001b[39;00m is_integer(x) \u001b[38;5;129;01mand\u001b[39;00m \u001b[38;5;129;01mnot\u001b[39;00m data\u001b[38;5;241m.\u001b[39mcolumns\u001b[38;5;241m.\u001b[39m_holds_integer():\n\u001b[0;32m    994\u001b[0m     x \u001b[38;5;241m=\u001b[39m data_cols[x]\n\u001b[1;32m--> 995\u001b[0m \u001b[38;5;28;01melif\u001b[39;00m \u001b[38;5;129;01mnot\u001b[39;00m \u001b[38;5;28misinstance\u001b[39m(data[x], ABCSeries):\n\u001b[0;32m    996\u001b[0m     \u001b[38;5;28;01mraise\u001b[39;00m \u001b[38;5;167;01mValueError\u001b[39;00m(\u001b[38;5;124m\"\u001b[39m\u001b[38;5;124mx must be a label or position\u001b[39m\u001b[38;5;124m\"\u001b[39m)\n\u001b[0;32m    997\u001b[0m data \u001b[38;5;241m=\u001b[39m data\u001b[38;5;241m.\u001b[39mset_index(x)\n",
      "File \u001b[1;32m~\\anaconda3\\Lib\\site-packages\\pandas\\core\\frame.py:4102\u001b[0m, in \u001b[0;36mDataFrame.__getitem__\u001b[1;34m(self, key)\u001b[0m\n\u001b[0;32m   4100\u001b[0m \u001b[38;5;28;01mif\u001b[39;00m \u001b[38;5;28mself\u001b[39m\u001b[38;5;241m.\u001b[39mcolumns\u001b[38;5;241m.\u001b[39mnlevels \u001b[38;5;241m>\u001b[39m \u001b[38;5;241m1\u001b[39m:\n\u001b[0;32m   4101\u001b[0m     \u001b[38;5;28;01mreturn\u001b[39;00m \u001b[38;5;28mself\u001b[39m\u001b[38;5;241m.\u001b[39m_getitem_multilevel(key)\n\u001b[1;32m-> 4102\u001b[0m indexer \u001b[38;5;241m=\u001b[39m \u001b[38;5;28mself\u001b[39m\u001b[38;5;241m.\u001b[39mcolumns\u001b[38;5;241m.\u001b[39mget_loc(key)\n\u001b[0;32m   4103\u001b[0m \u001b[38;5;28;01mif\u001b[39;00m is_integer(indexer):\n\u001b[0;32m   4104\u001b[0m     indexer \u001b[38;5;241m=\u001b[39m [indexer]\n",
      "File \u001b[1;32m~\\anaconda3\\Lib\\site-packages\\pandas\\core\\indexes\\base.py:3812\u001b[0m, in \u001b[0;36mIndex.get_loc\u001b[1;34m(self, key)\u001b[0m\n\u001b[0;32m   3807\u001b[0m     \u001b[38;5;28;01mif\u001b[39;00m \u001b[38;5;28misinstance\u001b[39m(casted_key, \u001b[38;5;28mslice\u001b[39m) \u001b[38;5;129;01mor\u001b[39;00m (\n\u001b[0;32m   3808\u001b[0m         \u001b[38;5;28misinstance\u001b[39m(casted_key, abc\u001b[38;5;241m.\u001b[39mIterable)\n\u001b[0;32m   3809\u001b[0m         \u001b[38;5;129;01mand\u001b[39;00m \u001b[38;5;28many\u001b[39m(\u001b[38;5;28misinstance\u001b[39m(x, \u001b[38;5;28mslice\u001b[39m) \u001b[38;5;28;01mfor\u001b[39;00m x \u001b[38;5;129;01min\u001b[39;00m casted_key)\n\u001b[0;32m   3810\u001b[0m     ):\n\u001b[0;32m   3811\u001b[0m         \u001b[38;5;28;01mraise\u001b[39;00m InvalidIndexError(key)\n\u001b[1;32m-> 3812\u001b[0m     \u001b[38;5;28;01mraise\u001b[39;00m \u001b[38;5;167;01mKeyError\u001b[39;00m(key) \u001b[38;5;28;01mfrom\u001b[39;00m \u001b[38;5;21;01merr\u001b[39;00m\n\u001b[0;32m   3813\u001b[0m \u001b[38;5;28;01mexcept\u001b[39;00m \u001b[38;5;167;01mTypeError\u001b[39;00m:\n\u001b[0;32m   3814\u001b[0m     \u001b[38;5;66;03m# If we have a listlike key, _check_indexing_error will raise\u001b[39;00m\n\u001b[0;32m   3815\u001b[0m     \u001b[38;5;66;03m#  InvalidIndexError. Otherwise we fall through and re-raise\u001b[39;00m\n\u001b[0;32m   3816\u001b[0m     \u001b[38;5;66;03m#  the TypeError.\u001b[39;00m\n\u001b[0;32m   3817\u001b[0m     \u001b[38;5;28mself\u001b[39m\u001b[38;5;241m.\u001b[39m_check_indexing_error(key)\n",
      "\u001b[1;31mKeyError\u001b[0m: 'Life_Expectancy'"
     ]
    },
    {
     "data": {
      "image/png": "[encoded data removed]",
      "text/plain": [
       "<Figure size 640x480 with 1 Axes>"
      ]
     },
     "metadata": {},
     "output_type": "display_data"
    }
   ],
   "source": [
    "fig, ax = plt.subplots()\n",
    "gdp_le.plot(kind=\"scatter\", x=\"Life_Expectancy\", y=\"Year\", ax=ax)\n",
    "pred_df.plot(kind=\"line\", x=\"Life_Expectancy\", y=\"mean_estimate\", color=\"black\", ax=ax);"
   ]
  },
  {
   "cell_type": "code",
   "execution_count": null,
   "id": "786e3e91-580e-4b15-b1fd-4523ab053edc",
   "metadata": {},
   "outputs": [],
   "source": [
    "\n"
   ]
  }
 ],
 "metadata": {
  "kernelspec": {
   "display_name": "Python 3 (ipykernel)",
   "language": "python",
   "name": "python3"
  },
  "language_info": {
   "codemirror_mode": {
    "name": "ipython",
    "version": 3
   },
   "file_extension": ".py",
   "mimetype": "text/x-python",
   "name": "python",
   "nbconvert_exporter": "python",
   "pygments_lexer": "ipython3",
   "version": "3.12.4"
  }
 },
 "nbformat": 4,
 "nbformat_minor": 5
}
